{
  "nbformat": 4,
  "nbformat_minor": 0,
  "metadata": {
    "kernelspec": {
      "display_name": "Python 3",
      "language": "python",
      "name": "python3"
    },
    "language_info": {
      "codemirror_mode": {
        "name": "ipython",
        "version": 3
      },
      "file_extension": ".py",
      "mimetype": "text/x-python",
      "name": "python",
      "nbconvert_exporter": "python",
      "pygments_lexer": "ipython3",
      "version": "3.6.8"
    },
    "colab": {
      "name": "L08.ipynb",
      "provenance": []
    }
  },
  "cells": [
    {
      "cell_type": "markdown",
      "metadata": {
        "id": "Khzk1TfLNPTH"
      },
      "source": [
        "In this notebook we will train a k-nearest neighbors classifier to identify malware.\n",
        "\n",
        "We load our libraries below."
      ]
    },
    {
      "cell_type": "code",
      "metadata": {
        "id": "sy2beWgcNVEP"
      },
      "source": [
        "from sklearn import neighbors\n",
        "import matplotlib.pyplot as plt"
      ],
      "execution_count": 1,
      "outputs": []
    },
    {
      "cell_type": "markdown",
      "metadata": {
        "id": "YaZmqUYHNu-g"
      },
      "source": [
        "In this notebook code cell, we download our training and test data from GitHub."
      ]
    },
    {
      "cell_type": "code",
      "metadata": {
        "id": "oNcISC46LWSD",
        "outputId": "82d43181-2f08-44cc-f643-bc6df58895c0",
        "colab": {
          "base_uri": "https://localhost:8080/"
        }
      },
      "source": [
        "!wget https://github.com/mlittmancs/great_courses_ml/raw/master/data/malware-test.csv\n",
        "!wget https://github.com/mlittmancs/great_courses_ml/raw/master/data/malware-train.csv"
      ],
      "execution_count": 2,
      "outputs": [
        {
          "output_type": "stream",
          "name": "stdout",
          "text": [
            "--2023-11-21 14:42:41--  https://github.com/mlittmancs/great_courses_ml/raw/master/data/malware-test.csv\n",
            "Resolving github.com (github.com)... 140.82.112.3\n",
            "Connecting to github.com (github.com)|140.82.112.3|:443... connected.\n",
            "HTTP request sent, awaiting response... 302 Found\n",
            "Location: https://raw.githubusercontent.com/mlittmancs/great_courses_ml/master/data/malware-test.csv [following]\n",
            "--2023-11-21 14:42:41--  https://raw.githubusercontent.com/mlittmancs/great_courses_ml/master/data/malware-test.csv\n",
            "Resolving raw.githubusercontent.com (raw.githubusercontent.com)... 185.199.111.133, 185.199.110.133, 185.199.108.133, ...\n",
            "Connecting to raw.githubusercontent.com (raw.githubusercontent.com)|185.199.111.133|:443... connected.\n",
            "HTTP request sent, awaiting response... 200 OK\n",
            "Length: 11593257 (11M) [text/plain]\n",
            "Saving to: ‘malware-test.csv’\n",
            "\n",
            "malware-test.csv    100%[===================>]  11.06M  --.-KB/s    in 0.07s   \n",
            "\n",
            "2023-11-21 14:42:42 (151 MB/s) - ‘malware-test.csv’ saved [11593257/11593257]\n",
            "\n",
            "--2023-11-21 14:42:42--  https://github.com/mlittmancs/great_courses_ml/raw/master/data/malware-train.csv\n",
            "Resolving github.com (github.com)... 140.82.112.3\n",
            "Connecting to github.com (github.com)|140.82.112.3|:443... connected.\n",
            "HTTP request sent, awaiting response... 302 Found\n",
            "Location: https://raw.githubusercontent.com/mlittmancs/great_courses_ml/master/data/malware-train.csv [following]\n",
            "--2023-11-21 14:42:43--  https://raw.githubusercontent.com/mlittmancs/great_courses_ml/master/data/malware-train.csv\n",
            "Resolving raw.githubusercontent.com (raw.githubusercontent.com)... 185.199.108.133, 185.199.109.133, 185.199.110.133, ...\n",
            "Connecting to raw.githubusercontent.com (raw.githubusercontent.com)|185.199.108.133|:443... connected.\n",
            "HTTP request sent, awaiting response... 200 OK\n",
            "Length: 23186145 (22M) [text/plain]\n",
            "Saving to: ‘malware-train.csv’\n",
            "\n",
            "malware-train.csv   100%[===================>]  22.11M  --.-KB/s    in 0.1s    \n",
            "\n",
            "2023-11-21 14:42:45 (205 MB/s) - ‘malware-train.csv’ saved [23186145/23186145]\n",
            "\n"
          ]
        }
      ]
    },
    {
      "cell_type": "markdown",
      "metadata": {
        "id": "VGNlpKJ8N2us"
      },
      "source": [
        "We next declare a `getdat` function, which collects the data and labels within the file used for training. We loop over the lines of the given file one by one, splitting each line into components at the commas. The data file uses `pe-malicious` to label the positive instances of malware. So, we use `== \"pre-malicious\"` to turn those labels into 0/`False` for safe and 1/`True` for malware. The function returns the data and the labels for the file. Since the data is read from the file as a string, each component needs to be converted to a floating point number.\n",
        "\n",
        "\n",
        "We then use this funciton to get the training and test data used for our model.\n",
        "\n"
      ]
    },
    {
      "cell_type": "code",
      "metadata": {
        "id": "aM90Wl9z4ghc"
      },
      "source": [
        "def getdat(filename):\n",
        "    with open(filename, \"r\") as f:\n",
        "       data = f.readlines()\n",
        "    dat = []\n",
        "    labs = []\n",
        "    for line in data:\n",
        "        wordline = line.split(\",\")\n",
        "        labs = labs + [wordline[0] == \"pe-malicious\"]\n",
        "        dat = dat + [[float(wordline[i]) for i in range(1,len(wordline))]]\n",
        "    return(dat,labs)\n",
        "traindat, trainlabs = getdat(\"malware-train.csv\")\n",
        "testdat, testlabs = getdat(\"malware-test.csv\")"
      ],
      "execution_count": 3,
      "outputs": []
    },
    {
      "cell_type": "markdown",
      "metadata": {
        "id": "Ax4oYx9gOI3k"
      },
      "source": [
        "We define a `testscore` function, which calculates the number of correctly classified examples in the test set.\n",
        "\n",
        "We use this `testscore` function to calculate the accuracy of the model for four different values of k: 1, 5, 7, and 9"
      ]
    },
    {
      "cell_type": "code",
      "metadata": {
        "id": "XjGbDWnH4ghe"
      },
      "source": [
        "def testscore(dat,labs):\n",
        "    yhats = clf.predict(dat)\n",
        "    correct = sum([yhats[i] == labs[i] for i in range(len(dat))])\n",
        "    return(correct)\n",
        "\n",
        "acc = []\n",
        "m = 4000\n",
        "for k in [1,5,7,9]:\n",
        "    clf = neighbors.KNeighborsClassifier(n_neighbors=k,metric=\"cosine\")\n",
        "    clf = clf.fit(traindat[:m], trainlabs[:m])\n",
        "    acc = acc + [[k, testscore(traindat[:m],trainlabs[:m])/m, testscore(testdat,testlabs)/len(testlabs)]]"
      ],
      "execution_count": 5,
      "outputs": []
    },
    {
      "cell_type": "markdown",
      "metadata": {
        "id": "2uSFHeFqOaEa"
      },
      "source": [
        "We plot the accuracy as a function of k below on both the training data (blue) and test data (red)."
      ]
    },
    {
      "cell_type": "code",
      "metadata": {
        "id": "mu0AjkrN4ghl",
        "outputId": "a7934f5d-4274-428b-b23f-edddcf373e8a",
        "colab": {
          "base_uri": "https://localhost:8080/",
          "height": 472
        }
      },
      "source": [
        "# Plot dependence on k\n",
        "plt.plot([v[0] for v in acc], [v[1] for v in acc], c=\"blue\")\n",
        "plt.plot([v[0] for v in acc], [v[2] for v in acc], c=\"red\")\n",
        "plt.title('malware')\n",
        "plt.xlabel('k')\n",
        "plt.ylabel('acc')\n",
        "plt.show()"
      ],
      "execution_count": 6,
      "outputs": [
        {
          "output_type": "display_data",
          "data": {
            "text/plain": [
              "<Figure size 640x480 with 1 Axes>"
            ],
            "image/png": "[encoded data removed]"
          },
          "metadata": {}
        }
      ]
    }
  ]
}