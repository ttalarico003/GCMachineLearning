{
  "nbformat": 4,
  "nbformat_minor": 0,
  "metadata": {
    "colab": {
      "name": "L09.ipynb",
      "provenance": []
    },
    "language_info": {
      "codemirror_mode": {
        "name": "ipython",
        "version": 3
      },
      "file_extension": ".py",
      "mimetype": "text/x-python",
      "name": "python",
      "nbconvert_exporter": "python",
      "pygments_lexer": "ipython3",
      "version": "3.6.8"
    },
    "kernelspec": {
      "display_name": "Python 3",
      "language": "python",
      "name": "python3"
    }
  },
  "cells": [
    {
      "cell_type": "markdown",
      "metadata": {
        "id": "OxOa348yh6WZ"
      },
      "source": [
        "In this notebook we will create a classifier to predict diabetes using a support vector machine (SVM) varying the number of degrees of the polynomial of the SVM.\n",
        "\n",
        "We load the libraries in the cell below."
      ]
    },
    {
      "cell_type": "code",
      "metadata": {
        "id": "mv44j2fJiLqP"
      },
      "source": [
        "import random\n",
        "from sklearn import svm\n",
        "import matplotlib.pyplot as plt"
      ],
      "execution_count": 1,
      "outputs": []
    },
    {
      "cell_type": "markdown",
      "metadata": {
        "id": "lv7bV85qiWS4"
      },
      "source": [
        "Next we download the data:"
      ]
    },
    {
      "cell_type": "code",
      "metadata": {
        "id": "0iH7QFHdQyAS",
        "colab": {
          "base_uri": "https://localhost:8080/"
        },
        "outputId": "e09ec33b-fd0a-4b71-cea0-892a7e607299"
      },
      "source": [
        "!wget https://raw.githubusercontent.com/plotly/datasets/master/diabetes.csv"
      ],
      "execution_count": 2,
      "outputs": [
        {
          "output_type": "stream",
          "name": "stdout",
          "text": [
            "--2023-11-21 18:42:06--  https://raw.githubusercontent.com/plotly/datasets/master/diabetes.csv\n",
            "Resolving raw.githubusercontent.com (raw.githubusercontent.com)... 185.199.111.133, 185.199.109.133, 185.199.110.133, ...\n",
            "Connecting to raw.githubusercontent.com (raw.githubusercontent.com)|185.199.111.133|:443... connected.\n",
            "HTTP request sent, awaiting response... 200 OK\n",
            "Length: 23873 (23K) [text/plain]\n",
            "Saving to: ‘diabetes.csv’\n",
            "\n",
            "\rdiabetes.csv          0%[                    ]       0  --.-KB/s               \rdiabetes.csv        100%[===================>]  23.31K  --.-KB/s    in 0.002s  \n",
            "\n",
            "2023-11-21 18:42:06 (9.65 MB/s) - ‘diabetes.csv’ saved [23873/23873]\n",
            "\n"
          ]
        }
      ]
    },
    {
      "cell_type": "markdown",
      "metadata": {
        "id": "D0qNm6hEkqJD"
      },
      "source": [
        "We now will process the data:"
      ]
    },
    {
      "cell_type": "code",
      "metadata": {
        "id": "WqdKcoMTD18H"
      },
      "source": [
        "with open(\"diabetes.csv\", \"r\") as f:\n",
        "    data = f.readlines()\n",
        "feats = data[0]\n",
        "feats = feats.replace('\\n','')\n",
        "feats = feats.split(\",\")\n",
        "feats = feats[0:(len(feats)-1)]\n",
        "alldat = []\n",
        "alllabs = []\n",
        "for i in range(1,len(data)):\n",
        "     line = data[i]\n",
        "     line = line.replace('\\n','')\n",
        "     csvline = line.split(\",\")\n",
        "     alllabs = alllabs + [int(csvline[len(csvline)-1])]\n",
        "     csvline = [float(csvline[i]) for i in range(len(csvline)-1)]\n",
        "     alldat = alldat + [csvline]"
      ],
      "execution_count": 3,
      "outputs": []
    },
    {
      "cell_type": "markdown",
      "metadata": {
        "id": "EC-G0zT1mWKV"
      },
      "source": [
        "We next will create a `trainmask` and use it to create the train, test data."
      ]
    },
    {
      "cell_type": "code",
      "metadata": {
        "id": "wi9Fw1X8_N_R"
      },
      "source": [
        "trainmask = [random.randint(0,2) for i in range(len(alldat))]\n",
        "\n",
        "traindat = [alldat[i] for i in range(len(alldat)) if trainmask[i]]\n",
        "trainlabs = [alllabs[i] for i in range(len(alldat)) if trainmask[i]]\n",
        "testdat = [alldat[i] for i in range(len(alldat)) if not trainmask[i]]\n",
        "testlabs = [alllabs[i] for i in range(len(alldat)) if not trainmask[i]]"
      ],
      "execution_count": 4,
      "outputs": []
    },
    {
      "cell_type": "markdown",
      "metadata": {
        "id": "lXiN3WCDnkGv"
      },
      "source": [
        "We now will fit 8 different classifier models using a support vector machine, varying the degree of the polynomial from 0 to 7.  We then will calculate the training and test error of each model."
      ]
    },
    {
      "cell_type": "code",
      "metadata": {
        "id": "5wm6aQZXGdnF"
      },
      "source": [
        "trainerr = []\n",
        "testerr = []\n",
        "degrees = [0,1,2,3,4,5,6,7]\n",
        "for degree in degrees:\n",
        "  clf = svm.SVC(gamma='scale',kernel='poly', degree=degree)\n",
        "  clf.fit(traindat, trainlabs)\n",
        "\n",
        "  pred = clf.predict(traindat)\n",
        "  trainerr += [sum([pred[i] != trainlabs[i] for i in range(len(trainlabs))]) / len(trainlabs)]\n",
        "  pred = clf.predict(testdat)\n",
        "  testerr += [sum([pred[i] != testlabs[i] for i in range(len(testlabs))]) / len(testlabs)]"
      ],
      "execution_count": 5,
      "outputs": []
    },
    {
      "cell_type": "markdown",
      "metadata": {
        "id": "vL3Vp29rqQJe"
      },
      "source": [
        "Finally we print the train and test error for the models by kernel degree."
      ]
    },
    {
      "cell_type": "code",
      "metadata": {
        "id": "7MdPUf933KXX",
        "colab": {
          "base_uri": "https://localhost:8080/",
          "height": 452
        },
        "outputId": "9ea8c297-36da-4e83-fd6e-44f0e2e4f53d"
      },
      "source": [
        "plt.scatter(degrees, trainerr)\n",
        "plt.plot(degrees, trainerr, label='training error')\n",
        "plt.scatter(degrees, testerr)\n",
        "plt.plot(degrees, testerr, label='test error')\n",
        "plt.legend()\n",
        "plt.title('Prediction error by polynomial kernel degree')\n",
        "plt.show()"
      ],
      "execution_count": 6,
      "outputs": [
        {
          "output_type": "display_data",
          "data": {
            "text/plain": [
              "<Figure size 640x480 with 1 Axes>"
            ],
            "image/png": "[encoded data removed]"
          },
          "metadata": {}
        }
      ]
    }
  ]
}