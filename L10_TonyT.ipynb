{
  "nbformat": 4,
  "nbformat_minor": 0,
  "metadata": {
    "colab": {
      "name": "L10.ipynb",
      "provenance": []
    },
    "language_info": {
      "codemirror_mode": {
        "name": "ipython",
        "version": 3
      },
      "file_extension": ".py",
      "mimetype": "text/x-python",
      "name": "python",
      "nbconvert_exporter": "python",
      "pygments_lexer": "ipython3",
      "version": "3.6.8"
    },
    "kernelspec": {
      "display_name": "Python 3",
      "language": "python",
      "name": "python3"
    }
  },
  "cells": [
    {
      "cell_type": "markdown",
      "metadata": {
        "id": "uHh0_yrIPgCw"
      },
      "source": [
        "In this notebook we will train a multi-layer perceptron and a logistic regression on our ship data\n",
        "\n",
        "We load our libraries below"
      ]
    },
    {
      "cell_type": "code",
      "metadata": {
        "id": "Kx6zoLVxPmax"
      },
      "source": [
        "import csv\n",
        "import random\n",
        "from sklearn.neural_network import MLPClassifier\n",
        "from sklearn.linear_model import LogisticRegression"
      ],
      "execution_count": 1,
      "outputs": []
    },
    {
      "cell_type": "markdown",
      "metadata": {
        "id": "FSa0KFHRPz3M"
      },
      "source": [
        "Below we download our ship data"
      ]
    },
    {
      "cell_type": "code",
      "metadata": {
        "id": "c7dokpKs6hnA",
        "colab": {
          "base_uri": "https://localhost:8080/"
        },
        "outputId": "12a6b729-1ded-4786-c5cb-e945d1a0c7a6"
      },
      "source": [
        "!wget https://github.com/mlittmancs/great_courses_ml/raw/master/data/ship.csv"
      ],
      "execution_count": 2,
      "outputs": [
        {
          "output_type": "stream",
          "name": "stdout",
          "text": [
            "--2023-11-21 19:14:59--  https://github.com/mlittmancs/great_courses_ml/raw/master/data/ship.csv\n",
            "Resolving github.com (github.com)... 140.82.114.3\n",
            "Connecting to github.com (github.com)|140.82.114.3|:443... connected.\n",
            "HTTP request sent, awaiting response... 302 Found\n",
            "Location: https://raw.githubusercontent.com/mlittmancs/great_courses_ml/master/data/ship.csv [following]\n",
            "--2023-11-21 19:15:00--  https://raw.githubusercontent.com/mlittmancs/great_courses_ml/master/data/ship.csv\n",
            "Resolving raw.githubusercontent.com (raw.githubusercontent.com)... 185.199.108.133, 185.199.109.133, 185.199.111.133, ...\n",
            "Connecting to raw.githubusercontent.com (raw.githubusercontent.com)|185.199.108.133|:443... connected.\n",
            "HTTP request sent, awaiting response... 200 OK\n",
            "Length: 61194 (60K) [text/plain]\n",
            "Saving to: ‘ship.csv’\n",
            "\n",
            "ship.csv            100%[===================>]  59.76K  --.-KB/s    in 0.08s   \n",
            "\n",
            "2023-11-21 19:15:00 (725 KB/s) - ‘ship.csv’ saved [61194/61194]\n",
            "\n"
          ]
        }
      ]
    },
    {
      "cell_type": "markdown",
      "metadata": {
        "id": "wstPtP6MP2f3"
      },
      "source": [
        "Next, we write a script to process the data"
      ]
    },
    {
      "cell_type": "code",
      "metadata": {
        "id": "gSKpcO_GAwEX"
      },
      "source": [
        "first = True\n",
        "with open(\"ship.csv\") as f:\n",
        "    csvdata = csv.reader(f, delimiter=',')\n",
        "    data = []\n",
        "    for row in csvdata:\n",
        "      if not first: data += [row]\n",
        "      first = False\n",
        "\n",
        "array = []\n",
        "for col in range(len(data[0])):\n",
        "  array += [{}]\n",
        "  new = 0\n",
        "  for i in range(len(data)):\n",
        "     line = data[i]\n",
        "     if line[col] not in array[col]:\n",
        "      array[col][line[col]] = new\n",
        "      new += 1\n",
        "alldat = []\n",
        "alllabs = []\n",
        "for line in data:\n",
        "  alllabs += [int(line[1])]\n",
        "  if line[5] == '': line[5] = '50'\n",
        "  alldat += [ [int(line[2]), array[4][line[4]], float(line[5]), int(line[6]), int(line[7]), float(line[9]), line[11]=='S', line[11]=='C', line[11]=='Q' ]]\n",
        "feats = ['Pclass','Sex','Age','SibSp','Parch','Fare', 'Embarked S', 'Embarked C', 'Embarked Q']"
      ],
      "execution_count": 3,
      "outputs": []
    },
    {
      "cell_type": "markdown",
      "metadata": {
        "id": "JoDHyFJqQOYG"
      },
      "source": [
        "With our data processed, we create a `trainmask` to randomly separate our training from test data.  We will use the mask to get the training and test data."
      ]
    },
    {
      "cell_type": "code",
      "metadata": {
        "id": "ofqb0JywAwHq"
      },
      "source": [
        "trainmask = [random.randint(0,2) for i in range(len(alldat))]\n",
        "\n",
        "traindat = [alldat[i] for i in range(len(alldat)) if trainmask[i]<2]\n",
        "trainlabs = [alllabs[i] for i in range(len(alldat)) if trainmask[i]<2]\n",
        "testdat = [alldat[i] for i in range(len(alldat)) if trainmask[i]==2]\n",
        "testlabs = [alllabs[i] for i in range(len(alldat)) if trainmask[i]==2]"
      ],
      "execution_count": 4,
      "outputs": []
    },
    {
      "cell_type": "markdown",
      "metadata": {
        "id": "xdBwZXHVSQma"
      },
      "source": [
        "We next will train a multi-layer perceptron with 60 hidden units to classify the data and print the accuracy."
      ]
    },
    {
      "cell_type": "code",
      "metadata": {
        "id": "F3AB24vMAwKQ",
        "colab": {
          "base_uri": "https://localhost:8080/"
        },
        "outputId": "9b8128b6-c52c-4173-8c36-9579195b22f7"
      },
      "source": [
        "nhidden = 60\n",
        "clf = MLPClassifier(hidden_layer_sizes=[nhidden], max_iter = 50000)\n",
        "clf = clf.fit(traindat, trainlabs)\n",
        "pred = clf.predict(testdat)\n",
        "[sum([pred[i] != testlabs[i] for i in range(len(testlabs))]) / len(testlabs)]\n"
      ],
      "execution_count": 5,
      "outputs": [
        {
          "output_type": "execute_result",
          "data": {
            "text/plain": [
              "[0.22456140350877193]"
            ]
          },
          "metadata": {},
          "execution_count": 5
        }
      ]
    },
    {
      "cell_type": "markdown",
      "metadata": {
        "id": "DcAt69OsUgtV"
      },
      "source": [
        "Next we will calculate how much higher the predictions are for females vs. males."
      ]
    },
    {
      "cell_type": "code",
      "metadata": {
        "id": "TksEEdN6AwNA",
        "colab": {
          "base_uri": "https://localhost:8080/"
        },
        "outputId": "a52bb8c1-76f7-45ba-b70f-da5d69289a5b"
      },
      "source": [
        "# feats = ['Pclass','Sex','Age','SibSp','Parch','Fare', 'Embarked S', 'Embarked C', 'Embarked Q']\n",
        "\n",
        "imp = []\n",
        "for v in alldat:\n",
        "  real = v[1]\n",
        "  v[1] = 0\n",
        "  asmale = clf.predict_proba([v])[0][1]\n",
        "  v[1] = 1\n",
        "  asfemale = clf.predict_proba([v])[0][1]\n",
        "  v[1] = real\n",
        "  imp += [ asfemale-asmale ]\n",
        "\n",
        "print(sum(imp)/len(imp))"
      ],
      "execution_count": 6,
      "outputs": [
        {
          "output_type": "stream",
          "name": "stdout",
          "text": [
            "0.3616355420908969\n"
          ]
        }
      ]
    },
    {
      "cell_type": "markdown",
      "metadata": {
        "id": "YRBZGqvJa9Y9"
      },
      "source": [
        "Next we will train a logistic regression and print the accuracy of the model on the train and test datasets"
      ]
    },
    {
      "cell_type": "code",
      "metadata": {
        "id": "Hc9aJadgAwPe",
        "colab": {
          "base_uri": "https://localhost:8080/"
        },
        "outputId": "55a983d6-0c3d-4463-8cf3-3ead7ff2d13f"
      },
      "source": [
        "clf = LogisticRegression(max_iter = 500)\n",
        "\n",
        "clf.fit(traindat, trainlabs)\n",
        "\n",
        "pred = clf.predict(traindat)\n",
        "trainerr = sum([pred[i] != trainlabs[i] for i in range(len(trainlabs))]) / len(trainlabs)\n",
        "pred = clf.predict(testdat)\n",
        "testerr = sum([pred[i] != testlabs[i] for i in range(len(testlabs))]) / len(testlabs)\n",
        "\n",
        "print(trainerr, testerr)"
      ],
      "execution_count": 7,
      "outputs": [
        {
          "output_type": "stream",
          "name": "stdout",
          "text": [
            "0.19966996699669967 0.18596491228070175\n"
          ]
        }
      ]
    },
    {
      "cell_type": "markdown",
      "metadata": {
        "id": "wTSfeqQnbLYR"
      },
      "source": [
        "Finally we'll plot the coefficients of the logistic regression model"
      ]
    },
    {
      "cell_type": "code",
      "metadata": {
        "id": "vYh53kOFAwSK",
        "colab": {
          "base_uri": "https://localhost:8080/"
        },
        "outputId": "c500ea50-1d84-4186-c441-73f26542601e"
      },
      "source": [
        "for i in range(len(feats)):\n",
        "  print(feats[i], clf.coef_[0][i])\n"
      ],
      "execution_count": 8,
      "outputs": [
        {
          "output_type": "stream",
          "name": "stdout",
          "text": [
            "Pclass -0.899621945705204\n",
            "Sex 2.5289706956110853\n",
            "Age -0.03675846019496377\n",
            "SibSp -0.47032861923436736\n",
            "Parch -0.0427788814558152\n",
            "Fare 0.0031436434597836363\n",
            "Embarked S -0.2547469522890994\n",
            "Embarked C 0.20134951139286178\n",
            "Embarked Q -0.014571985989051354\n"
          ]
        }
      ]
    }
  ]
}